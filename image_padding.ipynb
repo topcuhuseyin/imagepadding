{
 "cells": [
  {
   "cell_type": "code",
   "execution_count": 3,
   "id": "cfc4f14c-107a-433a-9cca-19c1bbd531e5",
   "metadata": {},
   "outputs": [
    {
     "name": "stdout",
     "output_type": "stream",
     "text": [
      "İşlem tamamlandı.\n"
     ]
    }
   ],
   "source": [
    "import os\n",
    "from PIL import Image, ImageOps\n",
    "import glob\n",
    " # Padding eklemek için gereken genişlik ve yükseklik farklarını hesaplayın.\n",
    "def resize_with_padding(img, final_size, padding_color=(0, 0, 0)):\n",
    "    img.thumbnail((148, 39))\n",
    "    delta_width = final_size[0] - img.size[0]\n",
    "    delta_height = final_size[1] - img.size[1]\n",
    "     # Genişlik ve yükseklik için eşit miktarda padding ekleyin (üst, sol, alt, sağ)\n",
    "    padding = (\n",
    "        delta_width // 2,\n",
    "        delta_height // 2,\n",
    "        delta_width // 2,\n",
    "        delta_height // 2\n",
    "    )\n",
    "    padded_img = ImageOps.expand(img, padding, fill=padding_color)\n",
    "    return padded_img\n",
    "\n",
    "def process_images_in_folder(input_folder, output_folder):\n",
    "    # Klasör içindeki tüm resim dosyalarını listele.\n",
    "    image_files = glob.glob(os.path.join(input_folder, \"*.png\"))  # PNG dosyaları için ayarlayın.\n",
    "    \n",
    "    for image_file in image_files:\n",
    "        img = Image.open(image_file)\n",
    "        img = resize_with_padding(img, (148, 148), (0, 0, 0))  # İstenilen boyut ve padding rengini ayarlayın.\n",
    "        \n",
    "        # Yeni resmi belirlediğiniz çıktı klasörüne kaydedin.\n",
    "        output_file = os.path.join(output_folder, os.path.basename(image_file))\n",
    "        img.save(output_file)\n",
    "\n",
    "if __name__ == \"__main__\":\n",
    "    input_folder = r\"C:\\Users\\arge04\\jupyternotebok\\mesh\\m155\"  # İşlem yapılacak klasörün yolu.\n",
    "    output_folder = r\"C:\\Users\\arge04\\jupyternotebok\\padded\"  # İşlenmiş resimlerin kaydedileceği klasörün yolu.\n",
    "    \n",
    "    process_images_in_folder(input_folder, output_folder)\n",
    "    print(\"İşlem tamamlandı.\")\n"
   ]
  },
  {
   "cell_type": "code",
   "execution_count": null,
   "id": "94f1d12e-ecd5-48c8-802a-41f351384527",
   "metadata": {},
   "outputs": [],
   "source": []
  },
  {
   "cell_type": "code",
   "execution_count": null,
   "id": "bedb90a6-9138-4e41-bf19-ab29a019fab4",
   "metadata": {},
   "outputs": [],
   "source": []
  }
 ],
 "metadata": {
  "kernelspec": {
   "display_name": "jupyternotebok",
   "language": "python",
   "name": "jupyternotebok"
  },
  "language_info": {
   "codemirror_mode": {
    "name": "ipython",
    "version": 3
   },
   "file_extension": ".py",
   "mimetype": "text/x-python",
   "name": "python",
   "nbconvert_exporter": "python",
   "pygments_lexer": "ipython3",
   "version": "3.9.7"
  }
 },
 "nbformat": 4,
 "nbformat_minor": 5
}
